{
 "cells": [
  {
   "cell_type": "markdown",
   "id": "97087831",
   "metadata": {},
   "source": [
    "#### Hajipur, Bihar\n",
    "- Latitude: 25.6924° N\n",
    "- Longitude: 85.2083° E"
   ]
  },
  {
   "cell_type": "markdown",
   "id": "51565d43",
   "metadata": {},
   "source": [
    "##### Population\n",
    "- 1.47 lakhs (2011)\n",
    "- **Source:** <a href=\"https://en.wikipedia.org/wiki/Hajipur\" target=\"_blank\">Wikipedia</a>"
   ]
  },
  {
   "cell_type": "markdown",
   "id": "22394241",
   "metadata": {},
   "source": [
    "#### Landmark\n",
    "\n",
    "<img src=\"Budha_Stupa_Vaishali.jpg\" >\n",
    "\n",
    "\n",
    "- Vaishali derives its name from King Vishal. Even before the advent of Buddhism and Jainism, Vaishali was the capital of the vibrant Vajji confederation, since before the birth of Mahavira (c. 599 BC), which suggests that it was the first republic in the world, similar to those later found in ancient Greece.[5] In that period, Vaishali was an ancient metropolis and the capital city of the republic of the Vajji confederation of Mithila, which covered most of the Himalayan Gangetic region of present-day Bihar."
   ]
  }
 ],
 "metadata": {
  "kernelspec": {
   "display_name": "Python 3",
   "language": "python",
   "name": "python3"
  },
  "language_info": {
   "codemirror_mode": {
    "name": "ipython",
    "version": 3
   },
   "file_extension": ".py",
   "mimetype": "text/x-python",
   "name": "python",
   "nbconvert_exporter": "python",
   "pygments_lexer": "ipython3",
   "version": "3.9.5"
  }
 },
 "nbformat": 4,
 "nbformat_minor": 5
}
